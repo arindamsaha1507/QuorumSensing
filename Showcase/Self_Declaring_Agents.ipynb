{
 "cells": [
  {
   "cell_type": "markdown",
   "metadata": {},
   "source": [
    "# Spatial Aggregation of Evidence"
   ]
  },
  {
   "cell_type": "markdown",
   "metadata": {},
   "source": [
    "Consider a system consisting of $N$ agents which are spatially distributed on a unit square with periodic boundary conditions. Each agent has made a _True/False_ decision about some arbitrary problem. The decision of each agent is _True_ with a given probability.\n",
    "\n",
    "At each time instance, each agent $i$ does the following to estimate what fraction of agents has voted _True_:\n",
    "\n",
    "- __Move:__ Randomly moves a small distance in space.\n",
    "- __Aggregate:__ Increases its evidence variable $E_i$ for every other agent $j$ in the system that has voted _True_ ($v_j = 1$). The amount by which the variable increases depends inversely of the distance $d_{i,j}$ between the two agents.\n",
    "- __Forget:__ Decreases its evidence variable $E_i$ by a constant fraction $\\tau$ of its current value.\n",
    "\n",
    "Therefore,\n",
    "$$ E_i(t+1) = E_i(t) + \\sum\\limits_{{j \\neq i} \\\\ {v_j=1}} \\frac{\\lambda}{d_{i,j}} - \\tau E_i(t) $$"
   ]
  },
  {
   "cell_type": "code",
   "execution_count": 2,
   "metadata": {},
   "outputs": [],
   "source": [
    "import numpy as np\n",
    "import matplotlib.pyplot as plt\n",
    "from tqdm import tqdm"
   ]
  },
  {
   "cell_type": "markdown",
   "metadata": {},
   "source": [
    "## The Decision Making Agent"
   ]
  },
  {
   "cell_type": "markdown",
   "metadata": {},
   "source": [
    "Each `Agent` is characterized by its spatial co-ordinates `x` and `y`, its `decision` regarding the aribtrary problem and the `evidence` that it has gathered. Initially the agents are distributed randomly on the unit square and have `evidence = 0`. Their decision state can be `decision = True` with probability `p`.\n",
    "\n",
    "As the time evolves, the agents move randomly. The `wrap` function implements the periodic boundary conditions on the system and brings any agents which have the unit square back inside it."
   ]
  },
  {
   "cell_type": "code",
   "execution_count": 3,
   "metadata": {},
   "outputs": [],
   "source": [
    "class Agent:\n",
    "\n",
    "    def __init__(self,p):\n",
    "        (self.x, self.y) = np.random.random(2)\n",
    "\n",
    "        self.evidence = 0.0\n",
    "\n",
    "        if np.random.random() < p:\n",
    "            self.decision = True\n",
    "        else:\n",
    "            self.decision = False\n",
    "\n",
    "    def wrap(self):\n",
    "        if self.x > 1:\n",
    "            self.x -= 1\n",
    "        elif self.x < 0:\n",
    "            self.x += 1\n",
    "\n",
    "        if self.y > 1:\n",
    "            self.y -= 1\n",
    "        elif self.y < 0:\n",
    "            self.y += 1"
   ]
  },
  {
   "cell_type": "markdown",
   "metadata": {},
   "source": [
    "## Computing Distance Between the Agents"
   ]
  },
  {
   "cell_type": "markdown",
   "metadata": {},
   "source": [
    "The function `dist_matrix` computes the pairwise Eucledian distance between the agents. _It also takes note of the possibly reduced distance between the nodes due to periodic boundary conditions._"
   ]
  },
  {
   "cell_type": "code",
   "execution_count": 4,
   "metadata": {},
   "outputs": [],
   "source": [
    "def dist_matrix(S):\n",
    "\n",
    "    DD = np.zeros((len(S),len(S)))\n",
    "    for ii in range(len(S)):\n",
    "        for jj in range(len(S)):\n",
    "            if abs(S[ii].x - S[jj].x) < 0.5:\n",
    "                xd = abs(S[ii].x - S[jj].x)\n",
    "            else:\n",
    "                xd = 1 - abs (S[ii].x - S[jj].x)\n",
    "            if abs(S[ii].y - S[jj].y) < 0.5:\n",
    "                yd = abs(S[ii].y - S[jj].y)\n",
    "            else:\n",
    "                yd = 1 - abs (S[ii].y - S[jj].y)\n",
    "            DD[ii,jj] = np.sqrt(xd**2 + yd**2)\n",
    "    return DD"
   ]
  },
  {
   "cell_type": "markdown",
   "metadata": {},
   "source": [
    "## Connecting the Agents"
   ]
  },
  {
   "cell_type": "markdown",
   "metadata": {},
   "source": [
    "If the agents are to be connected to agents only within a `threshold` distance, the `connect` function may be used. This funcion is not used in the current model."
   ]
  },
  {
   "cell_type": "code",
   "execution_count": 5,
   "metadata": {},
   "outputs": [],
   "source": [
    "def connect(S,threshold):\n",
    "\n",
    "    D = dist_matrix(S)\n",
    "    C = np.empty((len(D),len(D)), dtype = bool)\n",
    "\n",
    "    for ii in range(len(D)):\n",
    "        for jj in range(len(D)):\n",
    "            if D[ii,jj] < threshold:\n",
    "                C[ii,jj] = True\n",
    "            else:\n",
    "                C[ii,jj] = False\n",
    "\n",
    "    return C"
   ]
  },
  {
   "cell_type": "markdown",
   "metadata": {},
   "source": [
    "## Updating Evidence Variable"
   ]
  },
  {
   "cell_type": "markdown",
   "metadata": {},
   "source": [
    "Given the positions of the agents, the `gather_evidence` function updates the `evidence` variable of the `Agent` according to the equation,\n",
    "\n",
    "$$ E_i(t+1) = E_i(t) + \\sum\\limits_{j \\neq i \\\\ v_j = 1} \\frac{\\lambda}{d_{i,j}} - \\tau E_i(t) $$\n",
    "\n",
    "where $E_i$ is the `evidence` variable of `Agent` $i$."
   ]
  },
  {
   "cell_type": "code",
   "execution_count": 6,
   "metadata": {},
   "outputs": [],
   "source": [
    "def gather_evidence(S,N,lam,tau):\n",
    "\n",
    "    Dist = dist_matrix(S)\n",
    "    for j in range(N):\n",
    "        S[j].evidence -= S[j].evidence * tau\n",
    "        for k in range(N):\n",
    "            if j != k:\n",
    "                if S[k].decision == True:\n",
    "                    S[j].evidence += lam/Dist[j,k]\n",
    "                    #S[j].evidence += np.exp(-lam * Dist[j,k]**2)"
   ]
  },
  {
   "cell_type": "markdown",
   "metadata": {},
   "source": [
    "## Moving the Agents"
   ]
  },
  {
   "cell_type": "markdown",
   "metadata": {},
   "source": [
    "At each time step, the $x_i$ and $y_i$ variables are updated by adding a random number drawn from a normal distribution with $\\sigma^2 = dr$. The `move` function updates the `x` and `y` variables of the `Agent` accordingly and also invokes the `wrap` function to accomodate for the periodic boundary conditions."
   ]
  },
  {
   "cell_type": "code",
   "execution_count": 7,
   "metadata": {},
   "outputs": [],
   "source": [
    "def move(S,N,dr):\n",
    "\n",
    "    for j in range(N):\n",
    "\n",
    "        S[j].x += np.sqrt(dr)*np.sign(np.random.randn())\n",
    "        S[j].y += np.sqrt(dr)*np.sign(np.random.randn())\n",
    "\n",
    "        S[j].wrap()"
   ]
  },
  {
   "cell_type": "markdown",
   "metadata": {},
   "source": [
    "## Normalizing the Evidence"
   ]
  },
  {
   "cell_type": "markdown",
   "metadata": {},
   "source": [
    "At equilibrium, the evidence $E_i$ must satisfy\n",
    "\n",
    "$$ E_i = \\frac{1}{\\tau} \\sum\\limits_{j \\neq i \\\\ v_j = 1} \\frac{\\lambda}{d_{i,j}}. $$\n",
    "\n",
    "The maximum value of $E_i$ occurs when all the agents have voted _True_ (_i.e._ $v_i = 1 ~~ \\forall i$). In that case, the evidence at equilibrium becomes,\n",
    "\n",
    "$$ E_{max} = \\frac{\\lambda}{\\tau}\\left( N-1 \\right) \\tilde{d} $$\n",
    "\n",
    "where $\\tilde{d}$ is the average inverse distance between points in a unit square. We compute this $E_{max}$ in the function `normalization` to be used as a normalization for the evidence gathered."
   ]
  },
  {
   "cell_type": "code",
   "execution_count": 8,
   "metadata": {},
   "outputs": [],
   "source": [
    "def normalization(NP, λ, τ):\n",
    "    \n",
    "    S = [Agent(1) for i in range(NP)]\n",
    "    D = dist_matrix(S)\n",
    "    I = np.zeros((NP,NP))\n",
    "    \n",
    "    assert len(D) == NP\n",
    "    \n",
    "    for i in range(NP):\n",
    "        for j in range(NP):\n",
    "            if i!=j:\n",
    "                I[i,j] = 1.0/D[i,j]\n",
    "    \n",
    "    return (np.mean(np.mean(I)))*(NP-1)*λ/τ"
   ]
  },
  {
   "cell_type": "markdown",
   "metadata": {},
   "source": [
    "## Setting the System Parameters"
   ]
  },
  {
   "cell_type": "markdown",
   "metadata": {},
   "source": [
    "The system parameters include total simulation time `Total_Time`, movement step size `dr`, number of agents `N`, $\\lambda$ `lam`, $\\tau$ `tau` and probability of being true `prob`."
   ]
  },
  {
   "cell_type": "code",
   "execution_count": 9,
   "metadata": {},
   "outputs": [],
   "source": [
    "def set_parameters(Total_Time=10000, dr=0.0001, N=100, lam=0.1, tau=0.018, prob=1.0, horizon=100, fluctuation_tolerance=0.05, convergence_tolerance=0.015, threshold=0.7):\n",
    "    \n",
    "    para = {\n",
    "        \n",
    "        'dr': dr,\n",
    "        'total': Total_Time,\n",
    "        'N': N,\n",
    "\n",
    "        'lam': lam,\n",
    "        'tau': tau,\n",
    "\n",
    "        'prob': prob,\n",
    "        \n",
    "        'horizon': horizon,\n",
    "        'fluctuation_tolerance': fluctuation_tolerance,\n",
    "        'convergence_tolerance': convergence_tolerance,\n",
    "        \n",
    "        'threshold': threshold\n",
    "        \n",
    "    }\n",
    "    \n",
    "    return para"
   ]
  },
  {
   "cell_type": "markdown",
   "metadata": {},
   "source": [
    "## The Simulation Function"
   ]
  },
  {
   "cell_type": "markdown",
   "metadata": {},
   "source": [
    "Given a set of parameters, we now define the `simulate` function which evolves the system gives the output `out` which contains positions of the agents `positions`, evidence gathered by each agent `evidence_individual` and the mean of this evidence over all agents `evidence_mean` for each timestep."
   ]
  },
  {
   "cell_type": "code",
   "execution_count": 10,
   "metadata": {},
   "outputs": [],
   "source": [
    "def simulate(para):\n",
    "    \n",
    "    pos = np.zeros((para['total'],para['N'],2))\n",
    "\n",
    "    ZZ = np.zeros(para['total'])\n",
    "    Z = np.zeros((para['total'],para['N']))\n",
    "    \n",
    "    Decision_Time = np.zeros(para['N'])\n",
    "    Decision_Value = np.zeros(para['N'])\n",
    "    Decision_Profile_Time = []\n",
    "    Decision_Profile_Value = []\n",
    "\n",
    "    S = [Agent(para['prob']) for i in range(para['N'])]\n",
    "    D = np.array([False for i in range(para['N'])])\n",
    "    M = set()\n",
    "    \n",
    "    L = np.zeros(para['N'])    \n",
    "    U = np.zeros(para['N'])\n",
    "    \n",
    "    norm_factor = normalization(para['N'],para['lam'],para['tau'])\n",
    "\n",
    "    for i in range(para['total']):\n",
    "        \n",
    "        if i%para['horizon'] == 0:\n",
    "            Decision_Profile_Time.append(i)\n",
    "            Decision_Profile_Value.append(len(M))\n",
    "            if len(M) == para['N']:\n",
    "                break\n",
    "\n",
    "        gather_evidence(S,para['N'],para['lam'],para['tau'])\n",
    "\n",
    "        for j in range(para['N']):\n",
    "            \n",
    "            if i%para['horizon'] == 0:\n",
    "                if D[j] == True or abs(0.5*(U[j]+L[j]) - S[j].evidence)/norm_factor < 0.3*para['convergence_tolerance']:\n",
    "                    Decision_Time[j] = i\n",
    "                    Decision_Value[j] = S[j].evidence/norm_factor > para['threshold']\n",
    "                    M = M.union({j})\n",
    "                D[j] = True\n",
    "                L[j] = (1-para['fluctuation_tolerance'])*S[j].evidence\n",
    "                U[j] = (1+para['fluctuation_tolerance'])*S[j].evidence\n",
    "\n",
    "            pos[i,j,0] = S[j].x\n",
    "            pos[i,j,1] = S[j].y\n",
    "\n",
    "            Z[i,j] = S[j].evidence\n",
    "\n",
    "            move(S,para['N'],para['dr'])\n",
    "            \n",
    "            if S[j].evidence < L[j] or S[j].evidence > U[j]:\n",
    "                D[j] = False\n",
    "\n",
    "    ZZ += np.mean(Z, axis=1)\n",
    "    \n",
    "    out = {\n",
    "        'positions': pos,\n",
    "        'evidence_individual': Z/norm_factor,\n",
    "        'evidence_mean': ZZ/norm_factor,\n",
    "        'decision_time': Decision_Time,\n",
    "        'decision_value': Decision_Value,\n",
    "        'profile_time': np.array(Decision_Profile_Time),\n",
    "        'profile_value': np.array(Decision_Profile_Value)\n",
    "    }\n",
    "    \n",
    "    return out"
   ]
  },
  {
   "cell_type": "markdown",
   "metadata": {},
   "source": [
    "## Set Plotting Axes"
   ]
  },
  {
   "cell_type": "markdown",
   "metadata": {},
   "source": [
    "Set the plot size and axes labels"
   ]
  },
  {
   "cell_type": "code",
   "execution_count": 11,
   "metadata": {},
   "outputs": [],
   "source": [
    "def set_plotter_axes(size, xlabel, ylabel):\n",
    "    plt.figure(figsize=size)\n",
    "    plt.xlabel(xlabel)\n",
    "    plt.ylabel(ylabel)"
   ]
  },
  {
   "cell_type": "markdown",
   "metadata": {},
   "source": [
    "Plot Evidence v/s Time Lines"
   ]
  },
  {
   "cell_type": "code",
   "execution_count": 12,
   "metadata": {},
   "outputs": [],
   "source": [
    "def evidence_plotter(N, output, color, label):\n",
    "    for i in range(N):\n",
    "        plt.plot(output['evidence_individual'][:,i],color,alpha=0.03)\n",
    "    plt.plot(output['evidence_mean'],color,label=label)\n",
    "    plt.xlim((0,max(output['decision_time'])))\n",
    "    plt.ylim((0,1.2*max(output['decision_value'])))"
   ]
  },
  {
   "cell_type": "markdown",
   "metadata": {},
   "source": [
    "Plot Traces of a Particular Agent"
   ]
  },
  {
   "cell_type": "code",
   "execution_count": 13,
   "metadata": {},
   "outputs": [],
   "source": [
    "def position_plotter(N, output, index, ti, tf):\n",
    "    plt.plot(output['positions'][ti:tf,index,0], output['positions'][ti:tf,index,1], '.r')\n",
    "    plt.show()"
   ]
  },
  {
   "cell_type": "markdown",
   "metadata": {},
   "source": [
    "## Running the Code"
   ]
  },
  {
   "cell_type": "markdown",
   "metadata": {},
   "source": [
    "## Self-declaring agents"
   ]
  },
  {
   "cell_type": "code",
   "execution_count": 14,
   "metadata": {},
   "outputs": [
    {
     "name": "stdout",
     "output_type": "stream",
     "text": [
      "1\t2\t3\t4\t5\t6\t7\t8\t9\t10\t11\t12\t13\t14\t15\t16\t17\t18\t19\t20\t"
     ]
    }
   ],
   "source": [
    "pr = np.zeros(20)\n",
    "ti = np.zeros(20)\n",
    "de = np.zeros(20)\n",
    "\n",
    "for i in range(20):\n",
    "    print(i+1, end='\\t')\n",
    "    pp = 0.5+(0.5/20)*i\n",
    "    pr[i] = pp\n",
    "    np.random.seed(200)\n",
    "    para = set_parameters(N=100, prob=pp)\n",
    "    output = simulate(para)\n",
    "    ti[i] = max(output['decision_time'])\n",
    "    de[i] = sum(output['decision_value'])"
   ]
  },
  {
   "cell_type": "code",
   "execution_count": 15,
   "metadata": {},
   "outputs": [
    {
     "data": {
      "image/png": "[encoded data removed]",
      "text/plain": [
       "<Figure size 720x720 with 1 Axes>"
      ]
     },
     "metadata": {
      "needs_background": "light"
     },
     "output_type": "display_data"
    }
   ],
   "source": [
    "set_plotter_axes((10,10), 'Prior', 'Time Taken')\n",
    "plt.plot(pr,ti)\n",
    "plt.show()"
   ]
  },
  {
   "cell_type": "code",
   "execution_count": 16,
   "metadata": {},
   "outputs": [
    {
     "data": {
      "image/png": "[encoded data removed]",
      "text/plain": [
       "<Figure size 720x720 with 1 Axes>"
      ]
     },
     "metadata": {
      "needs_background": "light"
     },
     "output_type": "display_data"
    }
   ],
   "source": [
    "set_plotter_axes((10,10), 'Prior', 'Fraction of agents who detect quorum')\n",
    "plt.plot(pr,de)\n",
    "plt.show()"
   ]
  },
  {
   "cell_type": "code",
   "execution_count": null,
   "metadata": {},
   "outputs": [],
   "source": []
  }
 ],
 "metadata": {
  "kernelspec": {
   "display_name": "Python 3",
   "language": "python",
   "name": "python3"
  },
  "language_info": {
   "codemirror_mode": {
    "name": "ipython",
    "version": 3
   },
   "file_extension": ".py",
   "mimetype": "text/x-python",
   "name": "python",
   "nbconvert_exporter": "python",
   "pygments_lexer": "ipython3",
   "version": "3.7.1"
  }
 },
 "nbformat": 4,
 "nbformat_minor": 2
}
