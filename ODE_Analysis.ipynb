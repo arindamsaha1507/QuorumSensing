{
 "cells": [
  {
   "cell_type": "markdown",
   "metadata": {},
   "source": [
    "# Commitment-Driven Reward"
   ]
  },
  {
   "cell_type": "markdown",
   "metadata": {},
   "source": [
    "Consider $N$ agents in a system each of which have to decide wheter to feed on a resource at any given point in time. Let $n$ be the number of agents which are currently decided to feed on the resource. The number of agents feeding at any time varies depending on: \n",
    "\n",
    " - __The quality of the reward $R$:__ The higher the quality of the resource, the higer is the chance that the $N-n$ non-feeding agentsstart feeding.\n",
    " - __The interaction between the agents:__ When a feeding and a non-feeding agent meet, either one can convince the other. If the feeding agents are more convincing, then $n$ will increase and vice-versa.\n",
    "\n",
    "$$ \\frac{dn}{dt} = \\alpha R \\left( N-n \\right) + \\beta n \\left( N-n \\right) $$\n",
    "\n",
    "where,\n",
    "\n",
    "- $\\alpha$ is the __reward constant__.\n",
    "- $\\beta$ is the __net recruitment constant__.\n",
    "\n",
    "__Note:__\n",
    "- $\\beta > 0$ if feeding agents are more convincing than the non-feeding agents.\n",
    "- $\\beta = 0$ if feeding and non-feeding agents are equally convincing\n",
    "- $\\beta < 0$ non-feeding agents are more convincing than the feeding agents."
   ]
  },
  {
   "cell_type": "markdown",
   "metadata": {},
   "source": [
    "We assume that, for each agent which feeds on the resource, the resource quality decreases at a rate $\\delta$. Furthermore, let us assume that the resource recovers its quality at a rate proportional to $R_0-r$, where $R_0$ is  the maximum quality that the resource may have. Therefore,\n",
    "\n",
    "$$ \\frac{dR}{dt} = \\gamma R \\left( R_0 - R \\right) - \\delta R n  $$\n",
    "\n",
    "where,\n",
    "\n",
    " - $\\gamma$ is the __growth rate__.\n",
    " - $\\delta$ is the __consumption constant__.\n",
    " - $R_0$ is the __carrying apacity__."
   ]
  },
  {
   "cell_type": "code",
   "execution_count": 1,
   "metadata": {},
   "outputs": [],
   "source": [
    "import numpy as np\n",
    "import matplotlib.pyplot as plt\n",
    "from tqdm import tqdm\n",
    "from scipy.integrate import odeint\n",
    "from sympy import *\n",
    "import ipywidgets as widgets\n",
    "from IPython.display import display, Markdown\n",
    "\n",
    "init_printing()\n",
    "\n",
    "x, y, α, β, γ, δ, σ = symbols('x y alpha beta gamma delta sigma')\n",
    "X1, Y1, X2, Y2, X3, Y3, X4, Y4, λ1, λ2, λ3, λ4, Jac = symbols(' x_1 y_1 x_2 y_2 x_3 y_3 x_4 y_4 lambda_1 lambda_2 lambda_3 lambda_4 J')"
   ]
  },
  {
   "cell_type": "markdown",
   "metadata": {},
   "source": [
    "## The ODE System"
   ]
  },
  {
   "cell_type": "markdown",
   "metadata": {},
   "source": [
    "To convert the above-mentioned scenario into ODE's, we divide the above-mentioned equations by $N$, rescale the parameters $\\alpha, \\beta, \\gamma$ and $\\delta$ by $N$, and redefine $x = \\frac{n}{N}, y = \\frac{R}{N}$ and $y_0 = \\frac{R_0}{N}$."
   ]
  },
  {
   "cell_type": "markdown",
   "metadata": {},
   "source": [
    "$$ \\frac{dx}{dt} = f(x,y) = \\alpha \\left( 1-x \\right) y + \\beta x \\left( 1-x \\right) $$\n",
    "\n",
    "$$ \\frac{dy}{dt} = g(x,y) = \\gamma \\left( \\sigma-y \\right) y + \\delta x y $$"
   ]
  },
  {
   "cell_type": "code",
   "execution_count": 2,
   "metadata": {},
   "outputs": [],
   "source": [
    "def do_symbolic_analysis():\n",
    "\n",
    "    xdot = α*(1-x)*y + β*x*(1-x)\n",
    "    ydot = γ*y*(σ-y) - δ*x*y\n",
    "\n",
    "    zdot = Matrix([xdot, ydot])\n",
    "\n",
    "    z0 = solve(zdot,(x,y))\n",
    "\n",
    "    J = Matrix([[diff(zdot[0],x), diff(zdot[0],y)],[diff(zdot[1],x), diff(zdot[1],y)]])\n",
    "\n",
    "    J0 = []\n",
    "    E0 = []\n",
    "\n",
    "    for i in range(len(z0)):\n",
    "        JJ = J.subs([(x,z0[i][0]), (y,z0[i][1])])\n",
    "        J0.append(JJ)\n",
    "        EE = Matrix(list(JJ.eigenvals().keys()))\n",
    "        E0.append(EE)\n",
    "        \n",
    "        z0[i] = Matrix(z0[i])\n",
    "        \n",
    "    r = {\n",
    "        'dyn_eq': zdot,\n",
    "        'fixed_points': z0,\n",
    "        'jacobian': J,\n",
    "        'jacobian_at_fixed_points': J0,\n",
    "        'eigenvalues_at_fixed_points': E0\n",
    "    }\n",
    "    \n",
    "    return r"
   ]
  },
  {
   "cell_type": "markdown",
   "metadata": {},
   "source": [
    "## The Numerical Simulations"
   ]
  },
  {
   "cell_type": "markdown",
   "metadata": {},
   "source": [
    "We also perform numerical simulations to better visualize the system."
   ]
  },
  {
   "cell_type": "code",
   "execution_count": 3,
   "metadata": {},
   "outputs": [],
   "source": [
    "def ode_sys(zz, t, α, β, γ, δ, σ):\n",
    "    \n",
    "    xx = α*(1-zz[0])*zz[1] + β*zz[0]*(1-zz[0])\n",
    "    yy = γ*zz[1]*(σ-zz[1]) - δ*zz[0]*zz[1]\n",
    "    \n",
    "    return [xx,yy]"
   ]
  },
  {
   "cell_type": "markdown",
   "metadata": {},
   "source": [
    "### Default System Parameters"
   ]
  },
  {
   "cell_type": "markdown",
   "metadata": {},
   "source": [
    "- α = 0.1\n",
    "- β = -0.03\n",
    "- γ = 0.03 \n",
    "- δ = 0.025 \n",
    "- σ = 1.0 "
   ]
  },
  {
   "cell_type": "code",
   "execution_count": 4,
   "metadata": {},
   "outputs": [],
   "source": [
    "def set_system_parameters(α=0.1, β=-0.03, γ=0.03, δ=0.025, σ=1.0):\n",
    "    return { 'α': α, 'β': β, 'γ': γ, 'δ': δ, 'σ': σ }"
   ]
  },
  {
   "cell_type": "markdown",
   "metadata": {},
   "source": [
    "### Default Integration Parameters"
   ]
  },
  {
   "cell_type": "markdown",
   "metadata": {},
   "source": [
    "- Total time = 1000\n",
    "- Steps length = 1\n",
    "- Initial Conditions = (0.0, 0.1)"
   ]
  },
  {
   "cell_type": "code",
   "execution_count": 5,
   "metadata": {},
   "outputs": [],
   "source": [
    "def set_integration_parameters(tf=1000, dt=1.0, x0=0.0, y0=0.1):\n",
    "    return { 'tf': tf, 'dt': dt, 'x0': x0, 'y0': y0 }"
   ]
  },
  {
   "cell_type": "markdown",
   "metadata": {},
   "source": [
    "Using these parameters, we numerically simulate the system."
   ]
  },
  {
   "cell_type": "code",
   "execution_count": 6,
   "metadata": {},
   "outputs": [],
   "source": [
    "def numeric_simulation(sys_params, int_params):\n",
    "    t = np.arange(0, int_params['tf'], int_params['dt'])\n",
    "    z0 = [int_params['x0'], int_params['y0']]\n",
    "    p = (sys_params['α'], sys_params['β'], sys_params['γ'], sys_params['δ'], sys_params['σ'])\n",
    "    sol = odeint(ode_sys, z0, t, args = p)\n",
    "    return(t, sol)"
   ]
  },
  {
   "cell_type": "markdown",
   "metadata": {},
   "source": [
    "We next match the numerical results with the analytics by substituting the parameters into the results."
   ]
  },
  {
   "cell_type": "code",
   "execution_count": 7,
   "metadata": {},
   "outputs": [],
   "source": [
    "def substitute_parameters(s, sys_p):\n",
    "    \n",
    "    substitutions = [(α, sys_p['α']), (β, sys_p['β']), (γ, sys_p['γ']), (δ, sys_p['δ']), (σ, sys_p['σ'])]\n",
    "    \n",
    "    r = {}\n",
    "    r['dyn_eq'] = s['dyn_eq'].subs(substitutions)\n",
    "    r['jacobian'] = s['jacobian'].subs(substitutions)\n",
    "    \n",
    "    r['fixed_points'] = [0]*len(s['fixed_points'])\n",
    "    r['jacobian_at_fixed_points'] = [0]*len(s['fixed_points'])\n",
    "    r['eigenvalues_at_fixed_points'] = [0]*len(s['fixed_points'])\n",
    "\n",
    "    for i in range(len(s['fixed_points'])):\n",
    "        r['fixed_points'][i] = s['fixed_points'][i].subs(substitutions)\n",
    "        r['jacobian_at_fixed_points'][i] = s['jacobian_at_fixed_points'][i].subs(substitutions)\n",
    "        r['eigenvalues_at_fixed_points'][i] = s['eigenvalues_at_fixed_points'][i].subs(substitutions)\n",
    "        \n",
    "    return r"
   ]
  },
  {
   "cell_type": "markdown",
   "metadata": {},
   "source": [
    "## Plotting Function"
   ]
  },
  {
   "cell_type": "code",
   "execution_count": 8,
   "metadata": {},
   "outputs": [],
   "source": [
    "def plotter(t, sol, s0):\n",
    "    \n",
    "    fig, ax = plt.subplots(1,3, figsize=(30,10))\n",
    "    fig.suptitle('Commitment Driven Reward', fontsize=25)\n",
    "\n",
    "    for i in range(len(ax)):\n",
    "        ax[i].tick_params(axis='both', which='major', labelsize=15)\n",
    "    \n",
    "    ax[0].set_title('Time Evolution', fontsize=20)\n",
    "    ax[1].set_title('Fixed Points and Nulclines', fontsize=20)\n",
    "    ax[2].set_title('Eigenvalues', fontsize=20)\n",
    "    \n",
    "    ax[0].set_xlabel('Time', fontsize=20)\n",
    "    ax[1].set_xlabel('$x$', fontsize=20)\n",
    "    ax[2].set_xlabel('$\\Re(\\lambda)$', fontsize=20)\n",
    "    \n",
    "    ax[0].set_ylabel('$x, y$', fontsize=20)\n",
    "    ax[1].set_ylabel('$y$', fontsize=20)\n",
    "    ax[2].set_ylabel('$\\Im(\\lambda)$', fontsize=20)\n",
    "    \n",
    "    ax[0].plot(t,sol[:,0])\n",
    "    ax[0].plot(t,sol[:,1])\n",
    "    \n",
    "    ax[1].axhline(0, color='k')\n",
    "    ax[1].axvline(0, color='k')\n",
    "\n",
    "    xx = solve(s0['dyn_eq'][0],y)\n",
    "    yy = solve(s0['dyn_eq'][1],y)\n",
    "\n",
    "    xs = np.arange(-1,2,0.01)\n",
    "    y1 = np.zeros(len(xs))\n",
    "    y2 = np.zeros(len(xs))\n",
    "    y3 = np.zeros(len(xs))\n",
    "\n",
    "    for i in range(len(xs)):\n",
    "        y1[i] = xx[0].subs(x,xs[i])\n",
    "        y2[i] = yy[0].subs(x,xs[i])\n",
    "        y3[i] = yy[1].subs(x,xs[i])\n",
    "        \n",
    "    ax[1].plot(xs,y1,'C0',ls='--')\n",
    "    ax[1].axvline(1,color='C0',ls='--')\n",
    "    ax[1].plot(xs,y2,'C1',ls='--')\n",
    "    ax[1].plot(xs,y3,'C1',ls='--')\n",
    "    \n",
    "    colors = ['r', 'g', 'b', 'm']\n",
    "    for i in range(len(s0['fixed_points'])):\n",
    "        ax[1].plot(s0['fixed_points'][i][0],s0['fixed_points'][i][1],'.',ms=15, color=colors[i])\n",
    "\n",
    "    ax[1].set_xlim((-0.05,1.05))\n",
    "    ax[1].set_ylim((-0.05,1.05))\n",
    "\n",
    "    ax[2].axhline(0, color='k')\n",
    "    ax[2].axvline(0, color='k')\n",
    "\n",
    "    for i in range(len(s0['fixed_points'])):\n",
    "        b = complex(s0['eigenvalues_at_fixed_points'][i][0])\n",
    "        ax[2].plot(b.real, b.imag,'.',ms=15, color=colors[i],alpha=0.9)\n",
    "        b = complex(s0['eigenvalues_at_fixed_points'][i][1])\n",
    "        ax[2].plot(b.real, b.imag,'.',ms=15, color=colors[i],alpha=0.9)\n",
    "        \n",
    "    plt.show()"
   ]
  },
  {
   "cell_type": "markdown",
   "metadata": {},
   "source": [
    "## Formatting Output"
   ]
  },
  {
   "cell_type": "code",
   "execution_count": 9,
   "metadata": {},
   "outputs": [],
   "source": [
    "def present_results(s, s0, t, sol):\n",
    "    \n",
    "    display(Markdown(\"## General Results\"))\n",
    "\n",
    "    display(Markdown(\"### Jacobian\"))\n",
    "    display(Eq(Jac,s['jacobian'],evaluate=False))\n",
    "\n",
    "    display(Markdown(\"### Fixed Points\"))\n",
    "    display(Eq((X1,Y1),tuple(s['fixed_points'][0]),evaluate=False))\n",
    "    display(Eq((X2,Y2),tuple(s['fixed_points'][1]),evaluate=False))\n",
    "    display(Eq((X3,Y3),tuple(s['fixed_points'][2]),evaluate=False))\n",
    "    display(Eq((X4,Y4),tuple(s['fixed_points'][3]),evaluate=False))\n",
    "\n",
    "    display(Markdown(\"### Eigenvalues\"))\n",
    "    display(Eq(λ1,s['eigenvalues_at_fixed_points'][0],evaluate=False))\n",
    "    print()\n",
    "    display(Eq(λ2,s['eigenvalues_at_fixed_points'][1],evaluate=False))\n",
    "    print()\n",
    "    display(Eq(λ3,s['eigenvalues_at_fixed_points'][2],evaluate=False))\n",
    "    print()\n",
    "    display(Eq(λ4,s['eigenvalues_at_fixed_points'][3],evaluate=False))\n",
    "\n",
    "    display(Markdown(\"---\"))\n",
    "    \n",
    "    display(Markdown(\"## Results at Chosen Paramters\"))\n",
    "\n",
    "    display(Markdown(\"### Fixed Points\"))\n",
    "    display(Eq((X1,Y1),tuple(s0['fixed_points'][0]),evaluate=False))\n",
    "    display(Eq((X2,Y2),tuple(s0['fixed_points'][1]),evaluate=False))\n",
    "    display(Eq((X3,Y3),tuple(s0['fixed_points'][2]),evaluate=False))\n",
    "    display(Eq((X4,Y4),tuple(s0['fixed_points'][3]),evaluate=False))\n",
    "\n",
    "    display(Markdown(\"### Eigenvalues\"))\n",
    "    display(Eq(λ1,s0['eigenvalues_at_fixed_points'][0],evaluate=False))\n",
    "    print()\n",
    "    display(Eq(λ2,s0['eigenvalues_at_fixed_points'][1],evaluate=False))\n",
    "    print()\n",
    "    display(Eq(λ3,s0['eigenvalues_at_fixed_points'][2],evaluate=False))\n",
    "    print()\n",
    "    display(Eq(λ4,s0['eigenvalues_at_fixed_points'][3],evaluate=False))\n",
    "\n",
    "    display(Markdown(\"### Plots\"))\n",
    "\n",
    "    %matplotlib inline\n",
    "    plotter(t,sol,s0)"
   ]
  },
  {
   "cell_type": "markdown",
   "metadata": {},
   "source": [
    "## The Results"
   ]
  },
  {
   "cell_type": "code",
   "execution_count": 10,
   "metadata": {},
   "outputs": [
    {
     "data": {
      "text/markdown": [
       "## General Results"
      ],
      "text/plain": [
       "<IPython.core.display.Markdown object>"
      ]
     },
     "metadata": {},
     "output_type": "display_data"
    },
    {
     "data": {
      "text/markdown": [
       "### Jacobian"
      ],
      "text/plain": [
       "<IPython.core.display.Markdown object>"
      ]
     },
     "metadata": {},
     "output_type": "display_data"
    },
    {
     "data": {
      "image/png": "[encoded data removed]",
      "text/latex": [
       "$$J = \\left[\\begin{matrix}- \\alpha y - \\beta x + \\beta \\left(- x + 1\\right) & \\alpha \\left(- x + 1\\right)\\\\- \\delta y & - \\delta x - \\gamma y + \\gamma \\left(\\sigma - y\\right)\\end{matrix}\\right]$$"
      ],
      "text/plain": [
       "    ⎡-α⋅y - β⋅x + β⋅(-x + 1)        α⋅(-x + 1)      ⎤\n",
       "J = ⎢                                               ⎥\n",
       "    ⎣         -δ⋅y            -δ⋅x - γ⋅y + γ⋅(σ - y)⎦"
      ]
     },
     "metadata": {},
     "output_type": "display_data"
    },
    {
     "data": {
      "text/markdown": [
       "### Fixed Points"
      ],
      "text/plain": [
       "<IPython.core.display.Markdown object>"
      ]
     },
     "metadata": {},
     "output_type": "display_data"
    },
    {
     "data": {
      "image/png": "[encoded data removed]",
      "text/latex": [
       "$$\\left ( x_{1}, \\quad y_{1}\\right ) = \\left ( 0, \\quad 0\\right )$$"
      ],
      "text/plain": [
       "(x₁, y₁) = (0, 0)"
      ]
     },
     "metadata": {},
     "output_type": "display_data"
    },
    {
     "data": {
      "image/png": "[encoded data removed]",
      "text/latex": [
       "$$\\left ( x_{2}, \\quad y_{2}\\right ) = \\left ( 1, \\quad 0\\right )$$"
      ],
      "text/plain": [
       "(x₂, y₂) = (1, 0)"
      ]
     },
     "metadata": {},
     "output_type": "display_data"
    },
    {
     "data": {
      "image/png": "[encoded data removed]",
      "text/latex": [
       "$$\\left ( x_{3}, \\quad y_{3}\\right ) = \\left ( 1, \\quad - \\frac{\\delta - \\gamma \\sigma}{\\gamma}\\right )$$"
      ],
      "text/plain": [
       "           ⎛   -(δ - γ⋅σ) ⎞\n",
       "(x₃, y₃) = ⎜1, ───────────⎟\n",
       "           ⎝        γ     ⎠"
      ]
     },
     "metadata": {},
     "output_type": "display_data"
    },
    {
     "data": {
      "image/png": "[encoded data removed]",
      "text/latex": [
       "$$\\left ( x_{4}, \\quad y_{4}\\right ) = \\left ( \\frac{\\alpha \\gamma \\sigma}{\\alpha \\delta - \\beta \\gamma}, \\quad - \\frac{\\beta \\gamma \\sigma}{\\alpha \\delta - \\beta \\gamma}\\right )$$"
      ],
      "text/plain": [
       "           ⎛  α⋅γ⋅σ     -β⋅γ⋅σ  ⎞\n",
       "(x₄, y₄) = ⎜─────────, ─────────⎟\n",
       "           ⎝α⋅δ - β⋅γ  α⋅δ - β⋅γ⎠"
      ]
     },
     "metadata": {},
     "output_type": "display_data"
    },
    {
     "data": {
      "text/markdown": [
       "### Eigenvalues"
      ],
      "text/plain": [
       "<IPython.core.display.Markdown object>"
      ]
     },
     "metadata": {},
     "output_type": "display_data"
    },
    {
     "data": {
      "image/png": "[encoded data removed]",
      "text/latex": [
       "$$\\lambda_{1} = \\left[\\begin{matrix}\\beta\\\\\\gamma \\sigma\\end{matrix}\\right]$$"
      ],
      "text/plain": [
       "     ⎡ β ⎤\n",
       "λ₁ = ⎢   ⎥\n",
       "     ⎣γ⋅σ⎦"
      ]
     },
     "metadata": {},
     "output_type": "display_data"
    },
    {
     "name": "stdout",
     "output_type": "stream",
     "text": [
      "\n"
     ]
    },
    {
     "data": {
      "image/png": "[encoded data removed]",
      "text/latex": [
       "$$\\lambda_{2} = \\left[\\begin{matrix}- \\beta\\\\- \\delta + \\gamma \\sigma\\end{matrix}\\right]$$"
      ],
      "text/plain": [
       "     ⎡   -β   ⎤\n",
       "λ₂ = ⎢        ⎥\n",
       "     ⎣-δ + γ⋅σ⎦"
      ]
     },
     "metadata": {},
     "output_type": "display_data"
    },
    {
     "name": "stdout",
     "output_type": "stream",
     "text": [
      "\n"
     ]
    },
    {
     "data": {
      "image/png": "[encoded data removed]",
      "text/latex": [
       "$$\\lambda_{3} = \\left[\\begin{matrix}\\frac{\\alpha \\left(\\delta - \\gamma \\sigma\\right)}{\\gamma} - \\beta\\\\- \\gamma \\sigma + \\gamma \\left(\\sigma + \\frac{\\delta - \\gamma \\sigma}{\\gamma}\\right)\\end{matrix}\\right]$$"
      ],
      "text/plain": [
       "     ⎡   α⋅(δ - γ⋅σ)        ⎤\n",
       "     ⎢   ─────────── - β    ⎥\n",
       "     ⎢        γ             ⎥\n",
       "λ₃ = ⎢                      ⎥\n",
       "     ⎢         ⎛    δ - γ⋅σ⎞⎥\n",
       "     ⎢-γ⋅σ + γ⋅⎜σ + ───────⎟⎥\n",
       "     ⎣         ⎝       γ   ⎠⎦"
      ]
     },
     "metadata": {},
     "output_type": "display_data"
    },
    {
     "name": "stdout",
     "output_type": "stream",
     "text": [
      "\n"
     ]
    },
    {
     "data": {
      "image/png": "[encoded data removed]",
      "text/latex": [
       "$$\\lambda_{4} = \\left[\\begin{matrix}\\frac{\\beta \\left(\\alpha \\delta - \\alpha \\gamma \\sigma - \\beta \\gamma + \\gamma^{2} \\sigma\\right)}{2 \\left(\\alpha \\delta - \\beta \\gamma\\right)} - \\frac{\\sqrt{\\beta \\left(\\alpha^{2} \\beta \\delta^{2} - 2 \\alpha^{2} \\beta \\delta \\gamma \\sigma + \\alpha^{2} \\beta \\gamma^{2} \\sigma^{2} + 4 \\alpha^{2} \\delta^{2} \\gamma \\sigma - 4 \\alpha^{2} \\delta \\gamma^{2} \\sigma^{2} - 2 \\alpha \\beta^{2} \\delta \\gamma + 2 \\alpha \\beta^{2} \\gamma^{2} \\sigma - 6 \\alpha \\beta \\delta \\gamma^{2} \\sigma + 2 \\alpha \\beta \\gamma^{3} \\sigma^{2} + \\beta^{3} \\gamma^{2} + 2 \\beta^{2} \\gamma^{3} \\sigma + \\beta \\gamma^{4} \\sigma^{2}\\right)}}{2 \\left(\\alpha \\delta - \\beta \\gamma\\right)}\\\\\\frac{\\beta \\left(\\alpha \\delta - \\alpha \\gamma \\sigma - \\beta \\gamma + \\gamma^{2} \\sigma\\right)}{2 \\left(\\alpha \\delta - \\beta \\gamma\\right)} + \\frac{\\sqrt{\\beta \\left(\\alpha^{2} \\beta \\delta^{2} - 2 \\alpha^{2} \\beta \\delta \\gamma \\sigma + \\alpha^{2} \\beta \\gamma^{2} \\sigma^{2} + 4 \\alpha^{2} \\delta^{2} \\gamma \\sigma - 4 \\alpha^{2} \\delta \\gamma^{2} \\sigma^{2} - 2 \\alpha \\beta^{2} \\delta \\gamma + 2 \\alpha \\beta^{2} \\gamma^{2} \\sigma - 6 \\alpha \\beta \\delta \\gamma^{2} \\sigma + 2 \\alpha \\beta \\gamma^{3} \\sigma^{2} + \\beta^{3} \\gamma^{2} + 2 \\beta^{2} \\gamma^{3} \\sigma + \\beta \\gamma^{4} \\sigma^{2}\\right)}}{2 \\left(\\alpha \\delta - \\beta \\gamma\\right)}\\end{matrix}\\right]$$"
      ],
      "text/plain": [
       "     ⎡                                  ______________________________________\n",
       "     ⎢  ⎛                     2  ⎞     ╱   ⎛ 2    2      2            2    2  \n",
       "     ⎢β⋅⎝α⋅δ - α⋅γ⋅σ - β⋅γ + γ ⋅σ⎠   ╲╱  β⋅⎝α ⋅β⋅δ  - 2⋅α ⋅β⋅δ⋅γ⋅σ + α ⋅β⋅γ ⋅σ\n",
       "     ⎢──────────────────────────── - ─────────────────────────────────────────\n",
       "     ⎢       2⋅(α⋅δ - β⋅γ)                                                    \n",
       "λ₄ = ⎢                                                                        \n",
       "     ⎢                                  ______________________________________\n",
       "     ⎢  ⎛                     2  ⎞     ╱   ⎛ 2    2      2            2    2  \n",
       "     ⎢β⋅⎝α⋅δ - α⋅γ⋅σ - β⋅γ + γ ⋅σ⎠   ╲╱  β⋅⎝α ⋅β⋅δ  - 2⋅α ⋅β⋅δ⋅γ⋅σ + α ⋅β⋅γ ⋅σ\n",
       "     ⎢──────────────────────────── + ─────────────────────────────────────────\n",
       "     ⎣       2⋅(α⋅δ - β⋅γ)                                                    \n",
       "\n",
       "______________________________________________________________________________\n",
       "2      2  2          2    2  2        2            2  2              2        \n",
       "  + 4⋅α ⋅δ ⋅γ⋅σ - 4⋅α ⋅δ⋅γ ⋅σ  - 2⋅α⋅β ⋅δ⋅γ + 2⋅α⋅β ⋅γ ⋅σ - 6⋅α⋅β⋅δ⋅γ ⋅σ + 2⋅α\n",
       "──────────────────────────────────────────────────────────────────────────────\n",
       "                                2⋅(α⋅δ - β⋅γ)                                 \n",
       "                                                                              \n",
       "______________________________________________________________________________\n",
       "2      2  2          2    2  2        2            2  2              2        \n",
       "  + 4⋅α ⋅δ ⋅γ⋅σ - 4⋅α ⋅δ⋅γ ⋅σ  - 2⋅α⋅β ⋅δ⋅γ + 2⋅α⋅β ⋅γ ⋅σ - 6⋅α⋅β⋅δ⋅γ ⋅σ + 2⋅α\n",
       "──────────────────────────────────────────────────────────────────────────────\n",
       "                                2⋅(α⋅δ - β⋅γ)                                 \n",
       "\n",
       "________________________________________⎤\n",
       "    3  2    3  2      2  3        4  2⎞ ⎥\n",
       "⋅β⋅γ ⋅σ  + β ⋅γ  + 2⋅β ⋅γ ⋅σ + β⋅γ ⋅σ ⎠ ⎥\n",
       "────────────────────────────────────────⎥\n",
       "                                        ⎥\n",
       "                                        ⎥\n",
       "________________________________________⎥\n",
       "    3  2    3  2      2  3        4  2⎞ ⎥\n",
       "⋅β⋅γ ⋅σ  + β ⋅γ  + 2⋅β ⋅γ ⋅σ + β⋅γ ⋅σ ⎠ ⎥\n",
       "────────────────────────────────────────⎥\n",
       "                                        ⎦"
      ]
     },
     "metadata": {},
     "output_type": "display_data"
    },
    {
     "data": {
      "text/markdown": [
       "---"
      ],
      "text/plain": [
       "<IPython.core.display.Markdown object>"
      ]
     },
     "metadata": {},
     "output_type": "display_data"
    },
    {
     "data": {
      "text/markdown": [
       "## Results at Chosen Paramters"
      ],
      "text/plain": [
       "<IPython.core.display.Markdown object>"
      ]
     },
     "metadata": {},
     "output_type": "display_data"
    },
    {
     "data": {
      "text/markdown": [
       "### Fixed Points"
      ],
      "text/plain": [
       "<IPython.core.display.Markdown object>"
      ]
     },
     "metadata": {},
     "output_type": "display_data"
    },
    {
     "data": {
      "image/png": "[encoded data removed]",
      "text/latex": [
       "$$\\left ( x_{1}, \\quad y_{1}\\right ) = \\left ( 0, \\quad 0\\right )$$"
      ],
      "text/plain": [
       "(x₁, y₁) = (0, 0)"
      ]
     },
     "metadata": {},
     "output_type": "display_data"
    },
    {
     "data": {
      "image/png": "[encoded data removed]",
      "text/latex": [
       "$$\\left ( x_{2}, \\quad y_{2}\\right ) = \\left ( 1, \\quad 0\\right )$$"
      ],
      "text/plain": [
       "(x₂, y₂) = (1, 0)"
      ]
     },
     "metadata": {},
     "output_type": "display_data"
    },
    {
     "data": {
      "image/png": "[encoded data removed]",
      "text/latex": [
       "$$\\left ( x_{3}, \\quad y_{3}\\right ) = \\left ( 1, \\quad 0.166666666666667\\right )$$"
      ],
      "text/plain": [
       "(x₃, y₃) = (1, 0.166666666666667)"
      ]
     },
     "metadata": {},
     "output_type": "display_data"
    },
    {
     "data": {
      "image/png": "[encoded data removed]",
      "text/latex": [
       "$$\\left ( x_{4}, \\quad y_{4}\\right ) = \\left ( 0.882352941176471, \\quad 0.264705882352941\\right )$$"
      ],
      "text/plain": [
       "(x₄, y₄) = (0.882352941176471, 0.264705882352941)"
      ]
     },
     "metadata": {},
     "output_type": "display_data"
    },
    {
     "data": {
      "text/markdown": [
       "### Eigenvalues"
      ],
      "text/plain": [
       "<IPython.core.display.Markdown object>"
      ]
     },
     "metadata": {},
     "output_type": "display_data"
    },
    {
     "data": {
      "image/png": "[encoded data removed]",
      "text/latex": [
       "$$\\lambda_{1} = \\left[\\begin{matrix}-0.03\\\\0.03\\end{matrix}\\right]$$"
      ],
      "text/plain": [
       "     ⎡-0.03⎤\n",
       "λ₁ = ⎢     ⎥\n",
       "     ⎣0.03 ⎦"
      ]
     },
     "metadata": {},
     "output_type": "display_data"
    },
    {
     "name": "stdout",
     "output_type": "stream",
     "text": [
      "\n"
     ]
    },
    {
     "data": {
      "image/png": "[encoded data removed]",
      "text/latex": [
       "$$\\lambda_{2} = \\left[\\begin{matrix}0.03\\\\0.005\\end{matrix}\\right]$$"
      ],
      "text/plain": [
       "     ⎡0.03 ⎤\n",
       "λ₂ = ⎢     ⎥\n",
       "     ⎣0.005⎦"
      ]
     },
     "metadata": {},
     "output_type": "display_data"
    },
    {
     "name": "stdout",
     "output_type": "stream",
     "text": [
      "\n"
     ]
    },
    {
     "data": {
      "image/png": "[encoded data removed]",
      "text/latex": [
       "$$\\lambda_{3} = \\left[\\begin{matrix}0.0133333333333333\\\\-0.005\\end{matrix}\\right]$$"
      ],
      "text/plain": [
       "     ⎡0.0133333333333333⎤\n",
       "λ₃ = ⎢                  ⎥\n",
       "     ⎣      -0.005      ⎦"
      ]
     },
     "metadata": {},
     "output_type": "display_data"
    },
    {
     "name": "stdout",
     "output_type": "stream",
     "text": [
      "\n"
     ]
    },
    {
     "data": {
      "image/png": "[encoded data removed]",
      "text/latex": [
       "$$\\lambda_{4} = \\left[\\begin{matrix}-0.00573529411764706 - 0.00854334561663401 i\\\\-0.00573529411764706 + 0.00854334561663401 i\\end{matrix}\\right]$$"
      ],
      "text/plain": [
       "     ⎡-0.00573529411764706 - 0.00854334561663401⋅ⅈ⎤\n",
       "λ₄ = ⎢                                            ⎥\n",
       "     ⎣-0.00573529411764706 + 0.00854334561663401⋅ⅈ⎦"
      ]
     },
     "metadata": {},
     "output_type": "display_data"
    },
    {
     "data": {
      "text/markdown": [
       "### Plots"
      ],
      "text/plain": [
       "<IPython.core.display.Markdown object>"
      ]
     },
     "metadata": {},
     "output_type": "display_data"
    },
    {
     "data": {
      "image/png": "[encoded data removed]",
      "text/plain": [
       "<Figure size 2160x720 with 3 Axes>"
      ]
     },
     "metadata": {
      "needs_background": "light"
     },
     "output_type": "display_data"
    }
   ],
   "source": [
    "s = do_symbolic_analysis()\n",
    "sys_p = set_system_parameters()\n",
    "int_p = set_integration_parameters()\n",
    "t, sol = numeric_simulation(sys_p, int_p)\n",
    "s0 = substitute_parameters(s,sys_p)\n",
    "\n",
    "present_results(s, s0, t, sol)"
   ]
  }
 ],
 "metadata": {
  "kernelspec": {
   "display_name": "Python 3",
   "language": "python",
   "name": "python3"
  },
  "language_info": {
   "codemirror_mode": {
    "name": "ipython",
    "version": 3
   },
   "file_extension": ".py",
   "mimetype": "text/x-python",
   "name": "python",
   "nbconvert_exporter": "python",
   "pygments_lexer": "ipython3",
   "version": "3.7.1"
  }
 },
 "nbformat": 4,
 "nbformat_minor": 2
}
